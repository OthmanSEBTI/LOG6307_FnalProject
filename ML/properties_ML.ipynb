{
 "cells": [
  {
   "cell_type": "code",
   "execution_count": 2,
   "metadata": {},
   "outputs": [],
   "source": [
    "import numpy as np\n",
    "import matplotlib.pyplot as plt\n",
    "import pandas as pd"
   ]
  },
  {
   "cell_type": "code",
   "execution_count": 14,
   "metadata": {},
   "outputs": [],
   "source": [
    "df = pd.read_csv('IST_MIR.csv')\n",
    "dataset = df[['URL','File','Lines_of_code','Require','Ensure','Include','Attribute','Hard_coded_string','Comment','Command','File_mode','SSH_KEY','defect_status']]\n",
    "#df = dataset[df_properties]"
   ]
  },
  {
   "cell_type": "code",
   "execution_count": 15,
   "metadata": {},
   "outputs": [
    {
     "data": {
      "text/html": [
       "<div>\n",
       "<style scoped>\n",
       "    .dataframe tbody tr th:only-of-type {\n",
       "        vertical-align: middle;\n",
       "    }\n",
       "\n",
       "    .dataframe tbody tr th {\n",
       "        vertical-align: top;\n",
       "    }\n",
       "\n",
       "    .dataframe thead th {\n",
       "        text-align: right;\n",
       "    }\n",
       "</style>\n",
       "<table border=\"1\" class=\"dataframe\">\n",
       "  <thead>\n",
       "    <tr style=\"text-align: right;\">\n",
       "      <th></th>\n",
       "      <th>URL</th>\n",
       "      <th>File</th>\n",
       "      <th>Lines_of_code</th>\n",
       "      <th>Require</th>\n",
       "      <th>Ensure</th>\n",
       "      <th>Include</th>\n",
       "      <th>Attribute</th>\n",
       "      <th>Hard_coded_string</th>\n",
       "      <th>Comment</th>\n",
       "      <th>Command</th>\n",
       "      <th>File_mode</th>\n",
       "      <th>SSH_KEY</th>\n",
       "      <th>defect_status</th>\n",
       "    </tr>\n",
       "  </thead>\n",
       "  <tbody>\n",
       "    <tr>\n",
       "      <td>0</td>\n",
       "      <td>0</td>\n",
       "      <td>0</td>\n",
       "      <td>125</td>\n",
       "      <td>0</td>\n",
       "      <td>0</td>\n",
       "      <td>0</td>\n",
       "      <td>27</td>\n",
       "      <td>16</td>\n",
       "      <td>32</td>\n",
       "      <td>0</td>\n",
       "      <td>0</td>\n",
       "      <td>0</td>\n",
       "      <td>0</td>\n",
       "    </tr>\n",
       "    <tr>\n",
       "      <td>1</td>\n",
       "      <td>1</td>\n",
       "      <td>1</td>\n",
       "      <td>35</td>\n",
       "      <td>0</td>\n",
       "      <td>1</td>\n",
       "      <td>1</td>\n",
       "      <td>6</td>\n",
       "      <td>10</td>\n",
       "      <td>11</td>\n",
       "      <td>1</td>\n",
       "      <td>1</td>\n",
       "      <td>1</td>\n",
       "      <td>1</td>\n",
       "    </tr>\n",
       "    <tr>\n",
       "      <td>2</td>\n",
       "      <td>0</td>\n",
       "      <td>2</td>\n",
       "      <td>53</td>\n",
       "      <td>0</td>\n",
       "      <td>3</td>\n",
       "      <td>5</td>\n",
       "      <td>19</td>\n",
       "      <td>15</td>\n",
       "      <td>0</td>\n",
       "      <td>2</td>\n",
       "      <td>1</td>\n",
       "      <td>1</td>\n",
       "      <td>1</td>\n",
       "    </tr>\n",
       "    <tr>\n",
       "      <td>3</td>\n",
       "      <td>0</td>\n",
       "      <td>0</td>\n",
       "      <td>1</td>\n",
       "      <td>0</td>\n",
       "      <td>0</td>\n",
       "      <td>1</td>\n",
       "      <td>0</td>\n",
       "      <td>0</td>\n",
       "      <td>0</td>\n",
       "      <td>0</td>\n",
       "      <td>0</td>\n",
       "      <td>0</td>\n",
       "      <td>1</td>\n",
       "    </tr>\n",
       "    <tr>\n",
       "      <td>4</td>\n",
       "      <td>0</td>\n",
       "      <td>2</td>\n",
       "      <td>278</td>\n",
       "      <td>6</td>\n",
       "      <td>4</td>\n",
       "      <td>11</td>\n",
       "      <td>54</td>\n",
       "      <td>30</td>\n",
       "      <td>96</td>\n",
       "      <td>4</td>\n",
       "      <td>1</td>\n",
       "      <td>1</td>\n",
       "      <td>0</td>\n",
       "    </tr>\n",
       "  </tbody>\n",
       "</table>\n",
       "</div>"
      ],
      "text/plain": [
       "   URL  File  Lines_of_code  Require  Ensure  Include  Attribute  \\\n",
       "0    0     0            125        0       0        0         27   \n",
       "1    1     1             35        0       1        1          6   \n",
       "2    0     2             53        0       3        5         19   \n",
       "3    0     0              1        0       0        1          0   \n",
       "4    0     2            278        6       4       11         54   \n",
       "\n",
       "   Hard_coded_string  Comment  Command  File_mode  SSH_KEY  defect_status  \n",
       "0                 16       32        0          0        0              0  \n",
       "1                 10       11        1          1        1              1  \n",
       "2                 15        0        2          1        1              1  \n",
       "3                  0        0        0          0        0              1  \n",
       "4                 30       96        4          1        1              0  "
      ]
     },
     "execution_count": 15,
     "metadata": {},
     "output_type": "execute_result"
    }
   ],
   "source": [
    "dataset.head()"
   ]
  },
  {
   "cell_type": "code",
   "execution_count": 46,
   "metadata": {},
   "outputs": [
    {
     "data": {
      "text/plain": [
       "Index(['URL', 'File', 'Lines_of_code', 'Require', 'Ensure', 'Include',\n",
       "       'Attribute', 'Hard_coded_string', 'Comment', 'Command', 'File_mode',\n",
       "       'SSH_KEY', 'defect_status'],\n",
       "      dtype='object')"
      ]
     },
     "execution_count": 46,
     "metadata": {},
     "output_type": "execute_result"
    }
   ],
   "source": [
    "dataset.keys()\n",
    "#X = dataset.iloc[:, :-1].values\n",
    "#y = dataset.iloc[:, 12].values"
   ]
  },
  {
   "cell_type": "code",
   "execution_count": 55,
   "metadata": {},
   "outputs": [],
   "source": [
    "from sklearn.model_selection import train_test_split\n",
    "X_train, X_test, y_train, y_test = train_test_split(X,y,test_size=0.1)"
   ]
  },
  {
   "cell_type": "code",
   "execution_count": 56,
   "metadata": {},
   "outputs": [
    {
     "data": {
      "text/plain": [
       "array([[  0,   0,  57, ...,   0,   0,   0],\n",
       "       [  0,   0, 151, ...,   0,   0,   0],\n",
       "       [  1,   5, 221, ...,   1,   2,   2],\n",
       "       ...,\n",
       "       [  0,   0,  46, ...,   0,   0,   0],\n",
       "       [  0,   0,  37, ...,   0,   0,   0],\n",
       "       [  1,   1,  35, ...,   1,   1,   1]], dtype=int64)"
      ]
     },
     "execution_count": 56,
     "metadata": {},
     "output_type": "execute_result"
    }
   ],
   "source": [
    "X_train"
   ]
  },
  {
   "cell_type": "code",
   "execution_count": 57,
   "metadata": {},
   "outputs": [],
   "source": [
    "from sklearn.decomposition import PCA\n",
    "from sklearn.preprocessing import StandardScaler\n",
    "scaler = StandardScaler()\n",
    "scaler.fit(X_train)\n",
    "X_train = scaler.transform(X_train)\n",
    "X_test = scaler.transform(X_test)\n",
    "pca = PCA(n_components=1)\n",
    "pca.fit(X_train)\n",
    "X_train_PCA = pca.transform(X_train)\n",
    "X_test_PCA = pca.transform(X_test)\n"
   ]
  },
  {
   "cell_type": "code",
   "execution_count": 58,
   "metadata": {},
   "outputs": [
    {
     "name": "stdout",
     "output_type": "stream",
     "text": [
      "[[-1.36182378]\n",
      " [-0.61472955]\n",
      " [ 2.04793232]\n",
      " [-0.1639074 ]\n",
      " [-1.65688247]\n",
      " [-1.46785237]\n",
      " [-1.28583145]\n",
      " [-1.62022414]\n",
      " [ 1.18200943]\n",
      " [-1.66704863]\n",
      " [ 3.40438878]\n",
      " [-1.74366417]\n",
      " [-1.79730954]\n",
      " [ 4.59734437]\n",
      " [-1.58443712]\n",
      " [-1.13293087]\n",
      " [ 2.99582836]\n",
      " [-1.89385044]\n",
      " [ 4.8151418 ]\n",
      " [ 1.43094176]\n",
      " [-0.84392572]\n",
      " [-1.71101877]\n",
      " [-0.97920738]\n",
      " [ 2.40971383]\n",
      " [-1.89385044]\n",
      " [ 3.74637494]\n",
      " [-1.71779109]\n",
      " [-0.77390733]\n",
      " [-1.89157315]\n",
      " [ 1.97333934]\n",
      " [-1.44350426]\n",
      " [-0.71402796]\n",
      " [ 5.66703019]\n",
      " [-0.98908206]\n",
      " [-1.39833987]\n",
      " [-1.88929585]\n",
      " [-1.62087612]\n",
      " [ 0.06794806]\n",
      " [ 0.92533992]\n",
      " [18.83014285]\n",
      " [-1.02436997]\n",
      " [ 2.43782688]\n",
      " [ 1.41172853]\n",
      " [-1.89385044]\n",
      " [-0.62563373]\n",
      " [ 3.46848343]\n",
      " [-1.27772638]\n",
      " [-1.62108218]\n",
      " [-1.72351332]\n",
      " [ 1.78861922]\n",
      " [ 0.53036932]\n",
      " [ 0.25666832]\n",
      " [-0.99324344]\n",
      " [-1.79794595]\n",
      " [-1.47482792]\n",
      " [-1.13831895]\n",
      " [-1.38189685]\n",
      " [ 0.81606451]\n",
      " [ 0.05162663]\n",
      " [-0.396535  ]\n",
      " [-1.33658364]\n",
      " [ 4.13612797]\n",
      " [ 0.92120475]\n",
      " [ 1.38270658]\n",
      " [-1.37429664]\n",
      " [-1.57451414]\n",
      " [-0.806488  ]\n",
      " [-0.35101702]\n",
      " [ 0.04214126]\n",
      " [ 6.69616257]\n",
      " [-1.41354367]\n",
      " [ 5.8100593 ]\n",
      " [-1.89385044]\n",
      " [-0.57671027]\n",
      " [-1.3735215 ]\n",
      " [-1.58020812]\n",
      " [-1.54922494]\n",
      " [-1.61565686]\n",
      " [-0.03596982]\n",
      " [-1.93119181]\n",
      " [-1.82205852]\n",
      " [-0.12829837]\n",
      " [-1.45144699]\n",
      " [-1.64296471]\n",
      " [-1.79730954]\n",
      " [ 0.76222065]\n",
      " [ 2.55518432]\n",
      " [-1.89385044]\n",
      " [-1.6714553 ]\n",
      " [-1.50393493]\n",
      " [16.53860663]\n",
      " [-0.32736428]\n",
      " [-1.70973627]\n",
      " [ 0.63149183]\n",
      " [ 2.03474383]\n",
      " [ 0.1405455 ]\n",
      " [-1.93119181]\n",
      " [-0.13402544]\n",
      " [ 2.11894493]\n",
      " [-0.29713932]\n",
      " [-1.32395626]\n",
      " [-1.48887815]\n",
      " [ 0.20247893]\n",
      " [-1.79623065]\n",
      " [-1.65971501]\n",
      " [-1.78412452]\n",
      " [-1.55365535]\n",
      " [ 0.12554779]\n",
      " [-1.78471715]\n",
      " [-1.73649234]\n",
      " [ 0.65980427]\n",
      " [-0.95639731]\n",
      " [ 2.44470133]\n",
      " [-1.01179251]\n",
      " [-1.44084098]\n",
      " [-1.29696498]\n",
      " [ 1.63042886]\n",
      " [-1.43091083]\n",
      " [-1.10401113]\n",
      " [-1.36601424]\n",
      " [ 1.22089329]\n",
      " [-1.2752472 ]\n",
      " [-1.75527497]\n",
      " [-1.22473487]\n",
      " [ 1.01228276]\n",
      " [-0.5126435 ]\n",
      " [-0.51451952]\n",
      " [-0.68770306]\n",
      " [-1.89385044]\n",
      " [-1.65141873]\n",
      " [-0.52084135]\n",
      " [-1.76475168]\n",
      " [-1.55705818]\n",
      " [-1.1030416 ]\n",
      " [-0.64958226]\n",
      " [ 8.00594536]\n",
      " [-1.20024663]\n",
      " [ 8.57114323]\n",
      " [-1.83386837]\n",
      " [ 1.16177747]\n",
      " [-1.35805787]\n",
      " [-0.09883841]\n",
      " [-0.69964044]\n",
      " [-1.6438621 ]\n",
      " [-0.57616841]\n",
      " [-1.10979344]\n",
      " [-1.89385044]\n",
      " [-1.27786776]\n",
      " [ 1.11464401]\n",
      " [-1.76703538]\n",
      " [ 2.05744334]\n",
      " [-1.33350152]\n",
      " [ 0.65473351]\n",
      " [-1.85606951]\n",
      " [-1.86538932]\n",
      " [ 5.63186912]\n",
      " [ 0.6164986 ]\n",
      " [ 0.97111428]\n",
      " [-0.95789936]\n",
      " [-1.20078421]\n",
      " [-1.42635625]\n",
      " [-0.83232203]]\n"
     ]
    }
   ],
   "source": [
    "print(X_train_PCA)"
   ]
  },
  {
   "cell_type": "code",
   "execution_count": 59,
   "metadata": {},
   "outputs": [
    {
     "data": {
      "text/plain": [
       "KNeighborsClassifier(algorithm='auto', leaf_size=30, metric='minkowski',\n",
       "                     metric_params=None, n_jobs=None, n_neighbors=3, p=2,\n",
       "                     weights='uniform')"
      ]
     },
     "execution_count": 59,
     "metadata": {},
     "output_type": "execute_result"
    }
   ],
   "source": [
    "from sklearn.neighbors import KNeighborsClassifier\n",
    "classifier = KNeighborsClassifier(n_neighbors=3)\n",
    "classifier.fit(X_train_PCA,y_train)"
   ]
  },
  {
   "cell_type": "code",
   "execution_count": 60,
   "metadata": {},
   "outputs": [],
   "source": [
    "y_pred = classifier.predict(X_test_PCA)"
   ]
  },
  {
   "cell_type": "code",
   "execution_count": 73,
   "metadata": {},
   "outputs": [
    {
     "name": "stdout",
     "output_type": "stream",
     "text": [
      "no\n"
     ]
    }
   ],
   "source": [
    "aaa = 'cxs'\n",
    " "
   ]
  },
  {
   "cell_type": "code",
   "execution_count": 65,
   "metadata": {},
   "outputs": [
    {
     "name": "stdout",
     "output_type": "stream",
     "text": [
      "              precision    recall  f1-score   support\n",
      "\n",
      "           0       0.64      0.70      0.67        10\n",
      "           1       0.57      0.50      0.53         8\n",
      "\n",
      "    accuracy                           0.61        18\n",
      "   macro avg       0.60      0.60      0.60        18\n",
      "weighted avg       0.61      0.61      0.61        18\n",
      "\n",
      "0.5999999999999999\n"
     ]
    }
   ],
   "source": [
    "from sklearn.metrics import classification_report, confusion_matrix, roc_auc_score                                                                                                                                                                                                                                                                                                                                                                                                                                                                                                                                                                                                                                                                                                                                                                                                                                                                                                            \n",
    "print(classification_report(y_test,y_pred))\n",
    "print(roc_auc_score(y_test, y_pred))\n",
    "#print(confusion_matrix(y_test,y_pred))"
   ]
  }
 ],
 "metadata": {
  "kernelspec": {
   "display_name": "Python 3",
   "language": "python",
   "name": "python3"
  },
  "language_info": {
   "codemirror_mode": {
    "name": "ipython",
    "version": 3
   },
   "file_extension": ".py",
   "mimetype": "text/x-python",
   "name": "python",
   "nbconvert_exporter": "python",
   "pygments_lexer": "ipython3",
   "version": "3.7.4"
  }
 },
 "nbformat": 4,
 "nbformat_minor": 2
}
